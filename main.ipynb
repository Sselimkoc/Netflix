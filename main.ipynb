{
 "cells": [
  {
   "cell_type": "code",
   "execution_count": null,
   "metadata": {},
   "outputs": [],
   "source": [
    "from utils import summarize_dataset, pd_config\n",
    "import pandas as pd\n",
    "import sqlite3\n",
    "import requests\n",
    "from typing import Counter\n",
    "from wordcloud import WordCloud\n",
    "import matplotlib.pyplot as plt\n",
    "%matplotlib inline  \n"
   ]
  },
  {
   "cell_type": "code",
   "execution_count": null,
   "metadata": {},
   "outputs": [],
   "source": [
    "def getData(title):\n",
    "    url = f\"https://moviesdatabase.p.rapidapi.com/titles/search/title/{title}\"\n",
    "    querystring = {\"exact\": \"true\", \"titleType\": \"movie\"}\n",
    "    headers = {\n",
    "        \"X-RapidAPI-Key\": \"\",\n",
    "        \"X-RapidAPI-Host\": \"moviesdatabase.p.rapidapi.com\"\n",
    "    }\n",
    "    response = requests.get(url, headers=headers, params=querystring)\n",
    "    data3 = response.json()\n",
    "\n",
    "    # İlk filmi alınan \"id\" değeri ile derecelendirme isteği\n",
    "    if \"results\" in data3 and data3[\"results\"]:\n",
    "        movie_id = data3[\"results\"][0][\"id\"]\n",
    "        url = f\"https://moviesdatabase.p.rapidapi.com/titles/{movie_id}/ratings\"\n",
    "        response2 = requests.get(url, headers=headers)\n",
    "        ratings_data = response2.json()\n",
    "        ratings_data = {title:ratings_data['results']}\n",
    "        print(ratings_data)\n",
    "        return ratings_data\n",
    "    else:\n",
    "        print(\"Film bulunamadı.\")\n",
    "        return None\n",
    "    "
   ]
  },
  {
   "cell_type": "code",
   "execution_count": null,
   "metadata": {},
   "outputs": [],
   "source": [
    "def showGraphs(dataframe, text, limit=10):\n",
    "    maxValues = dataframe.head(limit)\n",
    "    plt.figure(figsize=(10, 6))\n",
    "    bars = plt.bar(maxValues.iloc[:, 0], maxValues.iloc[:, 1], color='skyblue')\n",
    "    plt.suptitle(text)\n",
    "    plt.xticks(rotation=45)\n",
    "    for bar in bars:\n",
    "        yval = bar.get_height()\n",
    "        plt.text(bar.get_x() + bar.get_width()/2, yval, yval, ha='center', va='bottom')\n",
    "    plt.tight_layout()\n",
    "    plt.show()\n"
   ]
  },
  {
   "cell_type": "code",
   "execution_count": null,
   "metadata": {},
   "outputs": [],
   "source": [
    "def createClouds(dataframe, category_list,stopwords):\n",
    "    for category in category_list:\n",
    "        filtered_df = dataframe[dataframe['listed_in'].str.contains(category)]\n",
    "        text = ' '.join(filtered_df.description)\n",
    "        wordcloud = WordCloud(width=800, height=400, background_color='white',stopwords=stopwords).generate(text)\n",
    "        # Create a new figure for each word cloud\n",
    "        plt.figure(figsize=(10, 5))\n",
    "        \n",
    "        # Display the category as a title above the entire figure\n",
    "        plt.suptitle(category, fontsize=12)\n",
    "        \n",
    "        # Display the word cloud\n",
    "        plt.imshow(wordcloud, interpolation='bilinear')\n",
    "        plt.axis('off')\n",
    "        plt.show()\n",
    "\n"
   ]
  },
  {
   "cell_type": "code",
   "execution_count": null,
   "metadata": {},
   "outputs": [],
   "source": [
    "def plot_cloud(words):\n",
    "    plt.figure(figsize=(40, 30))\n",
    "    plt.axis(\"off\");\n",
    "    plt.imshow(words) "
   ]
  },
  {
   "cell_type": "code",
   "execution_count": null,
   "metadata": {},
   "outputs": [],
   "source": [
    "pd_config()"
   ]
  },
  {
   "cell_type": "code",
   "execution_count": null,
   "metadata": {},
   "outputs": [],
   "source": [
    "path = \"\"\n",
    "conn = sqlite3.connect(\"mydatabase.db\")\n"
   ]
  },
  {
   "cell_type": "code",
   "execution_count": null,
   "metadata": {},
   "outputs": [],
   "source": [
    "data = pd.read_csv(path+\"netflix_titles.csv\")"
   ]
  },
  {
   "cell_type": "code",
   "execution_count": null,
   "metadata": {},
   "outputs": [],
   "source": [
    "new_data=summarize_dataset(data=data,drop_duplicates=True,drop_na=True)"
   ]
  },
  {
   "cell_type": "code",
   "execution_count": null,
   "metadata": {},
   "outputs": [],
   "source": [
    "new_data.to_sql(\"netflix\", conn, if_exists=\"replace\", index=False)"
   ]
  },
  {
   "cell_type": "code",
   "execution_count": null,
   "metadata": {},
   "outputs": [],
   "source": [
    "dataframe = pd.read_sql(\"SELECT * FROM Netflix\",conn)  #It's better to pull data from the database instead of a local CSV every time."
   ]
  },
  {
   "cell_type": "code",
   "execution_count": null,
   "metadata": {},
   "outputs": [],
   "source": [
    "rate=dataframe[\"rating\"].unique()\n",
    "details = [\n",
    "    'Parental Guidance Suggested',\n",
    "    'Parents Strongly Cautioned',\n",
    "    'Restricted',\n",
    "    'Mature Audience Only',                                          #meaning of the ratings\n",
    "    'Not Rated',\n",
    "    'Parents Strongly Cautioned - 13 and older',\n",
    "    'Parental Guidance Suggested',\n",
    "    'For Ages 7 and Up',\n",
    "    'General Audiences',\n",
    "    'General Audience - All Ages',\n",
    "    'Unrated',\n",
    "    'For Ages 7 and Up - Fantasy Violence',\n",
    "    'All Children',\n",
    "    'Adults Only'\n",
    "]\n"
   ]
  },
  {
   "cell_type": "code",
   "execution_count": null,
   "metadata": {},
   "outputs": [],
   "source": [
    "ratings = pd.DataFrame({'rate': rate, 'details': details})   "
   ]
  },
  {
   "cell_type": "code",
   "execution_count": null,
   "metadata": {},
   "outputs": [],
   "source": [
    "ratings.to_sql(\"ratings\", conn, if_exists=\"replace\", index=False)"
   ]
  },
  {
   "cell_type": "code",
   "execution_count": null,
   "metadata": {},
   "outputs": [],
   "source": [
    "freeList=[]"
   ]
  },
  {
   "cell_type": "code",
   "execution_count": null,
   "metadata": {},
   "outputs": [],
   "source": [
    "#Get rating data using api \n",
    "for index, row in new_data.iterrows():\n",
    "    try:\n",
    "        title = row[\"title\"]\n",
    "        raw = getData(title)\n",
    "        freeList.append(raw)\n",
    "        if index %100 == 0:\n",
    "            print(\"index:\", str(index))\n",
    "    except KeyError:\n",
    "        print(\"Keyerror\")\n",
    "        break\n",
    "#Warning!!! If you re using free version of api you have limited request in a hour,so you must wait "
   ]
  },
  {
   "cell_type": "code",
   "execution_count": null,
   "metadata": {},
   "outputs": [],
   "source": [
    "dictList = []\n",
    "\n",
    "for item in freeList:\n",
    "    if item is not None:    #when API limit is reached it returns none, we are deleting those that return none.\n",
    "        for key, value in item.items():\n",
    "            if value is not None:    #some movies have no rating, we remove them too.\n",
    "                dictList.append({key: value})\n",
    "\n",
    "dictList"
   ]
  },
  {
   "cell_type": "code",
   "execution_count": null,
   "metadata": {},
   "outputs": [],
   "source": [
    "data_list = []\n",
    "for item in dictList:\n",
    "    if not item:\n",
    "        continue\n",
    "    title = list(item.keys())[0]\n",
    "    info = item[title]\n",
    "    tconst = info.get('tconst', None)\n",
    "    averageRating = info.get('averageRating', None)\n",
    "    numVotes = info.get('numVotes', None)\n",
    "    data_list.append([title, tconst, averageRating, numVotes])\n",
    "detailedRatings = pd.DataFrame(data_list, columns=['Movie', 'tconst', 'averageRating', 'numVotes'])\n",
    "detailedRatings"
   ]
  },
  {
   "cell_type": "code",
   "execution_count": null,
   "metadata": {},
   "outputs": [],
   "source": [
    "detailedRatings.to_sql(\"ratingDetails\", conn, if_exists=\"replace\", index=False)\n"
   ]
  },
  {
   "cell_type": "code",
   "execution_count": null,
   "metadata": {},
   "outputs": [],
   "source": [
    "\n",
    "detailedRatings = pd.read_sql(\"SELECT * FROM ratingDetails\",conn) "
   ]
  },
  {
   "cell_type": "code",
   "execution_count": null,
   "metadata": {},
   "outputs": [],
   "source": [
    "#There is little data with UR rating, I searched on the internet and I saw that all of them were NC-17, so I am updating it.\n",
    "dataframe.loc[dataframe[\"rating\"] == \"UR\", \"rating\"] = \"NC-17\" \n"
   ]
  },
  {
   "cell_type": "code",
   "execution_count": null,
   "metadata": {},
   "outputs": [],
   "source": [
    "countries = dataframe[\"country\"]"
   ]
  },
  {
   "cell_type": "code",
   "execution_count": null,
   "metadata": {},
   "outputs": [],
   "source": [
    "unique_countries = []\n",
    "\n",
    "for entry in countries:\n",
    "    countries_list = entry.split(\", \")\n",
    "    unique_countries.extend(countries_list)\n",
    "\n",
    "ct = pd.DataFrame({\"Country\": unique_countries})\n",
    "\n",
    "country_counts = ct[\"Country\"].value_counts().reset_index()\n",
    "country_counts.columns = [\"Country\", \"Count\"]\n",
    "\n",
    "print(country_counts)\n",
    "ct = pd.DataFrame(country_counts)"
   ]
  },
  {
   "cell_type": "code",
   "execution_count": null,
   "metadata": {},
   "outputs": [],
   "source": [
    "ct.to_sql(\"country\",conn,if_exists=\"replace\",index=False)"
   ]
  },
  {
   "cell_type": "code",
   "execution_count": null,
   "metadata": {},
   "outputs": [],
   "source": [
    "tempDf = dataframe[\"listed_in\"]"
   ]
  },
  {
   "cell_type": "code",
   "execution_count": null,
   "metadata": {},
   "outputs": [],
   "source": [
    "categories = set()\n",
    "for item in tempDf:\n",
    "    updatedItem = item.split(\",\")\n",
    "    for item2 in updatedItem:\n",
    "        category = item2.strip()  # Başta ve sondaki boşlukları kaldır\n",
    "        categories.add(category)\n",
    "\n",
    "# Her bir kategorinin kaç kez geçtiğini sayar\n",
    "category_counts = Counter()\n",
    "\n",
    "for item in tempDf:\n",
    "    updatedItem = item.split(\",\")\n",
    "    for item2 in updatedItem:\n",
    "        category = item2.strip()\n",
    "        category_counts[category] += 1\n"
   ]
  },
  {
   "cell_type": "code",
   "execution_count": null,
   "metadata": {},
   "outputs": [],
   "source": [
    "category_list=list(category_counts.keys())\n",
    "sorted_categories = sorted(category_counts.keys())\n",
    "sorted_categories"
   ]
  },
  {
   "cell_type": "code",
   "execution_count": null,
   "metadata": {},
   "outputs": [],
   "source": [
    "url = \"https://gist.githubusercontent.com/ZohebAbai/513218c3468130eacff6481f424e4e64/raw/b70776f341a148293ff277afa0d0302c8c38f7e2/gist_stopwords.txt\"\n",
    "response = requests.get(url)\n",
    "with open(\"gist_stopwords.txt\", \"w\") as file:\n",
    "    file.write(response.text)\n",
    "with open(\"gist_stopwords.txt\", \"r\") as file:\n",
    "    content = file.read()\n",
    "    stopwords = content.split(\",\")"
   ]
  },
  {
   "cell_type": "code",
   "execution_count": null,
   "metadata": {},
   "outputs": [],
   "source": [
    "stopwords"
   ]
  },
  {
   "cell_type": "code",
   "execution_count": null,
   "metadata": {},
   "outputs": [],
   "source": [
    "createClouds(dataframe, sorted_categories,stopwords)"
   ]
  },
  {
   "cell_type": "code",
   "execution_count": null,
   "metadata": {},
   "outputs": [],
   "source": [
    "category_counts\n",
    "categoryDf = pd.DataFrame.from_dict(category_counts, orient='index', columns=['Count'])\n",
    "\n",
    "# Reset the index to have the categories as a column\n",
    "categoryDf.reset_index(inplace=True)\n",
    "categoryDf.rename(columns={'index': 'Category'}, inplace=True)\n",
    "categoryDf.sort_values(by=\"Count\",ascending=False,inplace=True)"
   ]
  },
  {
   "cell_type": "code",
   "execution_count": null,
   "metadata": {},
   "outputs": [],
   "source": [
    "text=\"Top 10 Movie Types\"\n",
    "showGraphs(categoryDf,text=text)"
   ]
  },
  {
   "cell_type": "code",
   "execution_count": null,
   "metadata": {},
   "outputs": [],
   "source": [
    "text=\"Top 10 Countries\"\n",
    "showGraphs(ct,text=text)"
   ]
  },
  {
   "cell_type": "code",
   "execution_count": null,
   "metadata": {},
   "outputs": [],
   "source": []
  }
 ],
 "metadata": {
  "kernelspec": {
   "display_name": "Python 3",
   "language": "python",
   "name": "python3"
  },
  "language_info": {
   "codemirror_mode": {
    "name": "ipython",
    "version": 3
   },
   "file_extension": ".py",
   "mimetype": "text/x-python",
   "name": "python",
   "nbconvert_exporter": "python",
   "pygments_lexer": "ipython3",
   "version": "3.9.0"
  },
  "orig_nbformat": 4
 },
 "nbformat": 4,
 "nbformat_minor": 2
}
